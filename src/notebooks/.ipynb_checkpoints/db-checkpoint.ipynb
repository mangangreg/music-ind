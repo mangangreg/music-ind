{
 "cells": [
  {
   "cell_type": "code",
   "execution_count": 1,
   "metadata": {
    "ExecuteTime": {
     "end_time": "2020-08-23T02:34:02.764121Z",
     "start_time": "2020-08-23T02:33:57.013918Z"
    }
   },
   "outputs": [],
   "source": [
    "import sys\n",
    "import requests\n",
    "import json\n",
    "from pathlib import Path\n",
    "\n",
    "import pandas as pd\n",
    "from bs4 import BeautifulSoup\n",
    "from tqdm.notebook import tqdm\n",
    "\n",
    "\n",
    "root = '../..' \n",
    "sys.path.append(root)\n",
    "from src.tools import paths\n",
    "from src.tools import data_tools as dt\n",
    "from src.tools import scrape_tools as st\n",
    "\n",
    "import networkx as nx\n",
    "from pymongo import MongoClient\n",
    "client = MongoClient(\"localhost\", 27017)"
   ]
  },
  {
   "cell_type": "markdown",
   "metadata": {},
   "source": [
    "# Mongo"
   ]
  },
  {
   "cell_type": "code",
   "execution_count": 2,
   "metadata": {
    "ExecuteTime": {
     "end_time": "2020-08-23T02:34:15.153562Z",
     "start_time": "2020-08-23T02:34:15.125567Z"
    }
   },
   "outputs": [
    {
     "data": {
      "text/plain": [
       "Database(MongoClient(host=['localhost:27017'], document_class=dict, tz_aware=False, connect=True), 'musicind')"
      ]
     },
     "execution_count": 2,
     "metadata": {},
     "output_type": "execute_result"
    }
   ],
   "source": [
    "db = client.musicind\n",
    "db"
   ]
  },
  {
   "cell_type": "code",
   "execution_count": 5,
   "metadata": {
    "ExecuteTime": {
     "end_time": "2020-08-23T02:34:50.175611Z",
     "start_time": "2020-08-23T02:34:50.140613Z"
    },
    "scrolled": true
   },
   "outputs": [
    {
     "name": "stdout",
     "output_type": "stream",
     "text": [
      "Cardigan by Taylor Swift\n",
      "You Need to Calm Down by Taylor Swift\n",
      "You Belong with Me by Taylor Swift\n",
      "Wildest Dreams by Taylor Swift\n",
      "We Are Never Ever Getting Back Together by Taylor Swift\n",
      "Style by Taylor Swift\n",
      "Begin Again by Taylor Swift\n",
      "Look What You Made Me Do by Taylor Swift\n",
      "Shake It Off by Taylor Swift\n",
      "Bad Blood by Taylor Swift and Kendrick Lamar\n",
      "Back to December by Taylor Swift\n",
      "Blank Space by Taylor Swift\n",
      "I Don't Wanna Live Forever by Zayn and Taylor Swift\n",
      "Me! by Taylor Swift and Brendon Urie and Panic! at the Disco\n",
      "Exile by Taylor Swift and Bon Iver\n",
      "Change by Taylor Swift\n",
      "...Ready for It? by Taylor Swift\n",
      "Red by Taylor Swift\n",
      "Mine by Taylor Swift\n",
      "Love Story by Taylor Swift\n",
      "Fearless by Taylor Swift\n",
      "Today Was a Fairytale by Taylor Swift\n",
      "Lover by Taylor Swift\n",
      "I Knew You Were Trouble by Taylor Swift\n"
     ]
    }
   ],
   "source": [
    "for res in db.songs.find({'artists':{'$elemMatch':{'name':'Taylor Swift'}}}):\n",
    "    print(f\"{res['title']} by {' and '.join(a['name'] for a in res['artists'])}\")"
   ]
  },
  {
   "cell_type": "markdown",
   "metadata": {},
   "source": [
    "## People types and counts"
   ]
  },
  {
   "cell_type": "code",
   "execution_count": 25,
   "metadata": {
    "ExecuteTime": {
     "end_time": "2020-08-22T03:26:20.687860Z",
     "start_time": "2020-08-22T03:26:20.677866Z"
    }
   },
   "outputs": [],
   "source": [
    "people_types = ['artists','songwriters', 'producers']"
   ]
  },
  {
   "cell_type": "code",
   "execution_count": 34,
   "metadata": {
    "ExecuteTime": {
     "end_time": "2020-08-22T03:54:47.596806Z",
     "start_time": "2020-08-22T03:54:47.402797Z"
    }
   },
   "outputs": [
    {
     "data": {
      "text/plain": [
       "{'artists': 2153, 'producers': 949, 'songwriters': 910}"
      ]
     },
     "execution_count": 34,
     "metadata": {},
     "output_type": "execute_result"
    }
   ],
   "source": [
    "people = {}\n",
    "for ptype in people_types:\n",
    "    people[ptype] = list(db.songs.aggregate(\n",
    "[\n",
    "    {\n",
    "        '$unwind': {\n",
    "            'path': f'${ptype}', \n",
    "            'includeArrayIndex': 'string', \n",
    "            'preserveNullAndEmptyArrays': False\n",
    "        }\n",
    "    }, {\n",
    "        '$project': {\n",
    "            'url': f'${ptype}.url', \n",
    "            'name': f'${ptype}.name'\n",
    "        }\n",
    "    }, {\n",
    "        '$group': {\n",
    "            '_id': '$url', \n",
    "            'name': {\n",
    "                '$first': '$name'\n",
    "            }\n",
    "        }\n",
    "    }\n",
    "]))\n",
    "{k:len(v) for k,v in people.items()}"
   ]
  },
  {
   "cell_type": "code",
   "execution_count": 35,
   "metadata": {
    "ExecuteTime": {
     "end_time": "2020-08-22T03:54:55.872498Z",
     "start_time": "2020-08-22T03:54:55.823373Z"
    },
    "scrolled": true
   },
   "outputs": [
    {
     "data": {
      "text/html": [
       "<div>\n",
       "<style scoped>\n",
       "    .dataframe tbody tr th:only-of-type {\n",
       "        vertical-align: middle;\n",
       "    }\n",
       "\n",
       "    .dataframe tbody tr th {\n",
       "        vertical-align: top;\n",
       "    }\n",
       "\n",
       "    .dataframe thead th {\n",
       "        text-align: right;\n",
       "    }\n",
       "</style>\n",
       "<table border=\"1\" class=\"dataframe\">\n",
       "  <thead>\n",
       "    <tr style=\"text-align: right;\">\n",
       "      <th></th>\n",
       "      <th>cat</th>\n",
       "      <th>_id</th>\n",
       "      <th>name</th>\n",
       "    </tr>\n",
       "  </thead>\n",
       "  <tbody>\n",
       "    <tr>\n",
       "      <th>0</th>\n",
       "      <td>artists</td>\n",
       "      <td>/wiki/The_Rascals</td>\n",
       "      <td>The Rascals</td>\n",
       "    </tr>\n",
       "    <tr>\n",
       "      <th>1</th>\n",
       "      <td>artists</td>\n",
       "      <td>/wiki/Johnny_Hates_Jazz</td>\n",
       "      <td>Johnny Hates Jazz</td>\n",
       "    </tr>\n",
       "    <tr>\n",
       "      <th>2</th>\n",
       "      <td>artists</td>\n",
       "      <td>/wiki/Pamela_Long_(singer)</td>\n",
       "      <td>Pamela Long</td>\n",
       "    </tr>\n",
       "    <tr>\n",
       "      <th>3</th>\n",
       "      <td>artists</td>\n",
       "      <td>/wiki/Sam_Smith</td>\n",
       "      <td>Sam Smith</td>\n",
       "    </tr>\n",
       "    <tr>\n",
       "      <th>4</th>\n",
       "      <td>artists</td>\n",
       "      <td>/wiki/Soul_II_Soul</td>\n",
       "      <td>Soul II Soul</td>\n",
       "    </tr>\n",
       "    <tr>\n",
       "      <th>...</th>\n",
       "      <td>...</td>\n",
       "      <td>...</td>\n",
       "      <td>...</td>\n",
       "    </tr>\n",
       "    <tr>\n",
       "      <th>4007</th>\n",
       "      <td>producers</td>\n",
       "      <td>/wiki/Harvey_Fuqua</td>\n",
       "      <td>Harvey Fuqua</td>\n",
       "    </tr>\n",
       "    <tr>\n",
       "      <th>4008</th>\n",
       "      <td>producers</td>\n",
       "      <td>/wiki/Dave_Bassett_(songwriter)</td>\n",
       "      <td>Dave Bassett</td>\n",
       "    </tr>\n",
       "    <tr>\n",
       "      <th>4009</th>\n",
       "      <td>producers</td>\n",
       "      <td>/wiki/Ashford_%26_Simpson</td>\n",
       "      <td>Ashford &amp; Simpson</td>\n",
       "    </tr>\n",
       "    <tr>\n",
       "      <th>4010</th>\n",
       "      <td>producers</td>\n",
       "      <td>/wiki/Tom_Allom</td>\n",
       "      <td>Tom Allom</td>\n",
       "    </tr>\n",
       "    <tr>\n",
       "      <th>4011</th>\n",
       "      <td>producers</td>\n",
       "      <td>/wiki/Phil_Ramone</td>\n",
       "      <td>Phil Ramone</td>\n",
       "    </tr>\n",
       "  </tbody>\n",
       "</table>\n",
       "<p>4012 rows × 3 columns</p>\n",
       "</div>"
      ],
      "text/plain": [
       "            cat                              _id               name\n",
       "0       artists                /wiki/The_Rascals        The Rascals\n",
       "1       artists          /wiki/Johnny_Hates_Jazz  Johnny Hates Jazz\n",
       "2       artists       /wiki/Pamela_Long_(singer)        Pamela Long\n",
       "3       artists                  /wiki/Sam_Smith          Sam Smith\n",
       "4       artists               /wiki/Soul_II_Soul       Soul II Soul\n",
       "...         ...                              ...                ...\n",
       "4007  producers               /wiki/Harvey_Fuqua       Harvey Fuqua\n",
       "4008  producers  /wiki/Dave_Bassett_(songwriter)       Dave Bassett\n",
       "4009  producers        /wiki/Ashford_%26_Simpson  Ashford & Simpson\n",
       "4010  producers                  /wiki/Tom_Allom          Tom Allom\n",
       "4011  producers                /wiki/Phil_Ramone        Phil Ramone\n",
       "\n",
       "[4012 rows x 3 columns]"
      ]
     },
     "execution_count": 35,
     "metadata": {},
     "output_type": "execute_result"
    }
   ],
   "source": [
    "combined = pd.DataFrame( [{'cat':k, **song} for k,v in people.items() for song in v] )\n",
    "combined"
   ]
  },
  {
   "cell_type": "markdown",
   "metadata": {
    "ExecuteTime": {
     "end_time": "2020-08-23T02:35:29.094202Z",
     "start_time": "2020-08-23T02:35:29.089200Z"
    }
   },
   "source": [
    "# Prolific"
   ]
  },
  {
   "cell_type": "code",
   "execution_count": null,
   "metadata": {
    "ExecuteTime": {
     "start_time": "2020-08-23T03:04:22.381Z"
    },
    "scrolled": true
   },
   "outputs": [],
   "source": [
    "prolific = {}\n",
    "for ptype in people_types:\n",
    "    prolific[ptype] = list(db.songs.aggregate([\n",
    "    {\n",
    "        '$unwind': {\n",
    "            'path': f'${ptype}', \n",
    "            'includeArrayIndex': 'string', \n",
    "            'preserveNullAndEmptyArrays': False\n",
    "        }\n",
    "    }, {\n",
    "        '$project': {\n",
    "            f'{ptype}_url': f'${ptype}.url', \n",
    "            f'{ptype}_name': f'${ptype}.name', \n",
    "            'song_name': '$title', \n",
    "            'song_url': '$url'\n",
    "        }\n",
    "    }, {\n",
    "        '$group': {\n",
    "            '_id': f'${ptype}_name', \n",
    "            'count': {\n",
    "                '$sum': 1\n",
    "            }, \n",
    "            'name': {\n",
    "                '$first': f'${ptype}_url'\n",
    "            }\n",
    "        }\n",
    "    }, {\n",
    "        '$sort': {\n",
    "            'count': -1\n",
    "        }\n",
    "    }\n",
    "]))\n"
   ]
  },
  {
   "cell_type": "code",
   "execution_count": 21,
   "metadata": {
    "ExecuteTime": {
     "end_time": "2020-08-23T02:51:48.904800Z",
     "start_time": "2020-08-23T02:51:48.878800Z"
    }
   },
   "outputs": [
    {
     "data": {
      "text/html": [
       "<div>\n",
       "<style scoped>\n",
       "    .dataframe tbody tr th:only-of-type {\n",
       "        vertical-align: middle;\n",
       "    }\n",
       "\n",
       "    .dataframe tbody tr th {\n",
       "        vertical-align: top;\n",
       "    }\n",
       "\n",
       "    .dataframe thead th {\n",
       "        text-align: right;\n",
       "    }\n",
       "</style>\n",
       "<table border=\"1\" class=\"dataframe\">\n",
       "  <thead>\n",
       "    <tr style=\"text-align: right;\">\n",
       "      <th></th>\n",
       "      <th>wikipedia_url</th>\n",
       "      <th>count</th>\n",
       "      <th>songwriter</th>\n",
       "    </tr>\n",
       "  </thead>\n",
       "  <tbody>\n",
       "    <tr>\n",
       "      <th>0</th>\n",
       "      <td>Max Martin</td>\n",
       "      <td>73</td>\n",
       "      <td>/wiki/Max_Martin</td>\n",
       "    </tr>\n",
       "    <tr>\n",
       "      <th>1</th>\n",
       "      <td>Aubrey Graham</td>\n",
       "      <td>40</td>\n",
       "      <td>/wiki/Drake_(musician)</td>\n",
       "    </tr>\n",
       "    <tr>\n",
       "      <th>2</th>\n",
       "      <td>Lukasz Gottwald</td>\n",
       "      <td>36</td>\n",
       "      <td>/wiki/Dr._Luke</td>\n",
       "    </tr>\n",
       "    <tr>\n",
       "      <th>3</th>\n",
       "      <td>Madonna</td>\n",
       "      <td>30</td>\n",
       "      <td>/wiki/Madonna</td>\n",
       "    </tr>\n",
       "    <tr>\n",
       "      <th>4</th>\n",
       "      <td>Mariah Carey</td>\n",
       "      <td>24</td>\n",
       "      <td>/wiki/Mariah_Carey</td>\n",
       "    </tr>\n",
       "    <tr>\n",
       "      <th>5</th>\n",
       "      <td>Terry Lewis</td>\n",
       "      <td>23</td>\n",
       "      <td>None</td>\n",
       "    </tr>\n",
       "    <tr>\n",
       "      <th>6</th>\n",
       "      <td>Benjamin Levin</td>\n",
       "      <td>23</td>\n",
       "      <td>/wiki/Benny_Blanco</td>\n",
       "    </tr>\n",
       "    <tr>\n",
       "      <th>7</th>\n",
       "      <td>Beyoncé Knowles</td>\n",
       "      <td>22</td>\n",
       "      <td>/wiki/Beyonc%C3%A9</td>\n",
       "    </tr>\n",
       "    <tr>\n",
       "      <th>8</th>\n",
       "      <td>James Harris III</td>\n",
       "      <td>22</td>\n",
       "      <td>None</td>\n",
       "    </tr>\n",
       "    <tr>\n",
       "      <th>9</th>\n",
       "      <td>Kanye West</td>\n",
       "      <td>22</td>\n",
       "      <td>/wiki/Kanye_West</td>\n",
       "    </tr>\n",
       "    <tr>\n",
       "      <th>10</th>\n",
       "      <td>Marshall Mathers</td>\n",
       "      <td>21</td>\n",
       "      <td>/wiki/Eminem</td>\n",
       "    </tr>\n",
       "    <tr>\n",
       "      <th>11</th>\n",
       "      <td>Shawn Carter</td>\n",
       "      <td>21</td>\n",
       "      <td>/wiki/Jay-Z</td>\n",
       "    </tr>\n",
       "    <tr>\n",
       "      <th>12</th>\n",
       "      <td>Shellback</td>\n",
       "      <td>21</td>\n",
       "      <td>/wiki/Shellback_(record_producer)</td>\n",
       "    </tr>\n",
       "    <tr>\n",
       "      <th>13</th>\n",
       "      <td>Tor Erik Hermansen</td>\n",
       "      <td>21</td>\n",
       "      <td>/wiki/Stargate_(production_team)</td>\n",
       "    </tr>\n",
       "    <tr>\n",
       "      <th>14</th>\n",
       "      <td>Savan Kotecha</td>\n",
       "      <td>20</td>\n",
       "      <td>/wiki/Savan_Kotecha</td>\n",
       "    </tr>\n",
       "    <tr>\n",
       "      <th>15</th>\n",
       "      <td>Justin Timberlake</td>\n",
       "      <td>19</td>\n",
       "      <td>/wiki/Justin_Timberlake</td>\n",
       "    </tr>\n",
       "    <tr>\n",
       "      <th>16</th>\n",
       "      <td>Janet Jackson</td>\n",
       "      <td>19</td>\n",
       "      <td>/wiki/Janet_Jackson</td>\n",
       "    </tr>\n",
       "    <tr>\n",
       "      <th>17</th>\n",
       "      <td>Taylor Swift</td>\n",
       "      <td>19</td>\n",
       "      <td>/wiki/Taylor_Swift</td>\n",
       "    </tr>\n",
       "    <tr>\n",
       "      <th>18</th>\n",
       "      <td>Jermaine Dupri</td>\n",
       "      <td>18</td>\n",
       "      <td>/wiki/Jermaine_Dupri</td>\n",
       "    </tr>\n",
       "    <tr>\n",
       "      <th>19</th>\n",
       "      <td>Philip Lawrence</td>\n",
       "      <td>18</td>\n",
       "      <td>/wiki/Philip_Lawrence_(songwriter)</td>\n",
       "    </tr>\n",
       "    <tr>\n",
       "      <th>20</th>\n",
       "      <td>Onika Maraj</td>\n",
       "      <td>18</td>\n",
       "      <td>/wiki/Nicki_Minaj</td>\n",
       "    </tr>\n",
       "    <tr>\n",
       "      <th>21</th>\n",
       "      <td>Mikkel S. Eriksen</td>\n",
       "      <td>18</td>\n",
       "      <td>/wiki/Stargate_(production_team)</td>\n",
       "    </tr>\n",
       "    <tr>\n",
       "      <th>22</th>\n",
       "      <td>Bruno Mars</td>\n",
       "      <td>17</td>\n",
       "      <td>/wiki/Bruno_Mars</td>\n",
       "    </tr>\n",
       "    <tr>\n",
       "      <th>23</th>\n",
       "      <td>Justin Bieber</td>\n",
       "      <td>17</td>\n",
       "      <td>/wiki/Justin_Bieber</td>\n",
       "    </tr>\n",
       "    <tr>\n",
       "      <th>24</th>\n",
       "      <td>Katy Perry</td>\n",
       "      <td>16</td>\n",
       "      <td>/wiki/Katy_Perry</td>\n",
       "    </tr>\n",
       "    <tr>\n",
       "      <th>25</th>\n",
       "      <td>Adam Levine</td>\n",
       "      <td>16</td>\n",
       "      <td>/wiki/Adam_Levine</td>\n",
       "    </tr>\n",
       "    <tr>\n",
       "      <th>26</th>\n",
       "      <td>Shaffer Smith</td>\n",
       "      <td>15</td>\n",
       "      <td>/wiki/Ne-Yo</td>\n",
       "    </tr>\n",
       "    <tr>\n",
       "      <th>27</th>\n",
       "      <td>Henry Walter</td>\n",
       "      <td>15</td>\n",
       "      <td>/wiki/Cirkut_(record_producer)</td>\n",
       "    </tr>\n",
       "    <tr>\n",
       "      <th>28</th>\n",
       "      <td>Daryl Simmons</td>\n",
       "      <td>14</td>\n",
       "      <td>/wiki/Daryl_Simmons</td>\n",
       "    </tr>\n",
       "    <tr>\n",
       "      <th>29</th>\n",
       "      <td>Louis Bell</td>\n",
       "      <td>14</td>\n",
       "      <td>/wiki/Louis_Bell</td>\n",
       "    </tr>\n",
       "  </tbody>\n",
       "</table>\n",
       "</div>"
      ],
      "text/plain": [
       "         wikipedia_url  count                          songwriter\n",
       "0           Max Martin     73                    /wiki/Max_Martin\n",
       "1        Aubrey Graham     40              /wiki/Drake_(musician)\n",
       "2      Lukasz Gottwald     36                      /wiki/Dr._Luke\n",
       "3              Madonna     30                       /wiki/Madonna\n",
       "4         Mariah Carey     24                  /wiki/Mariah_Carey\n",
       "5          Terry Lewis     23                                None\n",
       "6       Benjamin Levin     23                  /wiki/Benny_Blanco\n",
       "7      Beyoncé Knowles     22                  /wiki/Beyonc%C3%A9\n",
       "8     James Harris III     22                                None\n",
       "9           Kanye West     22                    /wiki/Kanye_West\n",
       "10    Marshall Mathers     21                        /wiki/Eminem\n",
       "11        Shawn Carter     21                         /wiki/Jay-Z\n",
       "12           Shellback     21   /wiki/Shellback_(record_producer)\n",
       "13  Tor Erik Hermansen     21    /wiki/Stargate_(production_team)\n",
       "14       Savan Kotecha     20                 /wiki/Savan_Kotecha\n",
       "15   Justin Timberlake     19             /wiki/Justin_Timberlake\n",
       "16       Janet Jackson     19                 /wiki/Janet_Jackson\n",
       "17        Taylor Swift     19                  /wiki/Taylor_Swift\n",
       "18      Jermaine Dupri     18                /wiki/Jermaine_Dupri\n",
       "19     Philip Lawrence     18  /wiki/Philip_Lawrence_(songwriter)\n",
       "20         Onika Maraj     18                   /wiki/Nicki_Minaj\n",
       "21   Mikkel S. Eriksen     18    /wiki/Stargate_(production_team)\n",
       "22          Bruno Mars     17                    /wiki/Bruno_Mars\n",
       "23       Justin Bieber     17                 /wiki/Justin_Bieber\n",
       "24          Katy Perry     16                    /wiki/Katy_Perry\n",
       "25         Adam Levine     16                   /wiki/Adam_Levine\n",
       "26       Shaffer Smith     15                         /wiki/Ne-Yo\n",
       "27        Henry Walter     15      /wiki/Cirkut_(record_producer)\n",
       "28       Daryl Simmons     14                 /wiki/Daryl_Simmons\n",
       "29          Louis Bell     14                    /wiki/Louis_Bell"
      ]
     },
     "execution_count": 21,
     "metadata": {},
     "output_type": "execute_result"
    }
   ],
   "source": [
    "df = pd.DataFrame(prods[:30])\n",
    "df.columns=['wikipedia_url', 'count', 'songwriter']\n",
    "df"
   ]
  },
  {
   "cell_type": "markdown",
   "metadata": {},
   "source": [
    "# Viz"
   ]
  },
  {
   "cell_type": "code",
   "execution_count": 37,
   "metadata": {
    "ExecuteTime": {
     "end_time": "2020-08-22T03:57:28.433387Z",
     "start_time": "2020-08-22T03:57:23.851506Z"
    }
   },
   "outputs": [],
   "source": [
    "import networkx"
   ]
  },
  {
   "cell_type": "code",
   "execution_count": 48,
   "metadata": {
    "ExecuteTime": {
     "end_time": "2020-08-22T04:34:29.318607Z",
     "start_time": "2020-08-22T04:34:29.082607Z"
    }
   },
   "outputs": [
    {
     "data": {
      "text/plain": [
       "5954"
      ]
     },
     "execution_count": 48,
     "metadata": {},
     "output_type": "execute_result"
    }
   ],
   "source": [
    "tree = list(db.songs.aggregate([\n",
    "    {\n",
    "        '$unwind': {\n",
    "            'path': '$songwriters', \n",
    "            'includeArrayIndex': 'string', \n",
    "            'preserveNullAndEmptyArrays': False\n",
    "        }\n",
    "    }, {\n",
    "        '$unwind': {\n",
    "            'path': '$artists', \n",
    "            'includeArrayIndex': 'string', \n",
    "            'preserveNullAndEmptyArrays': False\n",
    "        }\n",
    "    }, {\n",
    "        '$project': {\n",
    "            'artist_url': '$artists.url', \n",
    "            'artist_name': '$artists.name', \n",
    "            'producer_url': '$songwriters.url', \n",
    "            'producer_name': '$songwriters.name', \n",
    "            'song_name': '$title', \n",
    "            'song_url': '$url'\n",
    "        }\n",
    "    }\n",
    "]))\n",
    "len(tree)"
   ]
  },
  {
   "cell_type": "code",
   "execution_count": 50,
   "metadata": {
    "ExecuteTime": {
     "end_time": "2020-08-22T04:34:55.484483Z",
     "start_time": "2020-08-22T04:34:55.466479Z"
    },
    "scrolled": true
   },
   "outputs": [
    {
     "data": {
      "text/plain": [
       "[{'_id': ObjectId('5f4096d872ce53c57cc5f106'),\n",
       "  'artist_name': 'Chicago',\n",
       "  'artist_url': '/wiki/Chicago_(band)',\n",
       "  'producer_name': 'Peter CeteraDavid Foster',\n",
       "  'producer_url': None,\n",
       "  'song_name': \"Hard to Say I'm Sorry\",\n",
       "  'song_url': '/wiki/Hard_to_Say_I%27m_Sorry'},\n",
       " {'_id': ObjectId('5f4096d872ce53c57cc5f107'),\n",
       "  'artist_name': 'Boston',\n",
       "  'artist_url': '/wiki/Boston_(band)',\n",
       "  'producer_name': 'Tom Scholz',\n",
       "  'producer_url': '/wiki/Tom_Scholz',\n",
       "  'song_name': 'Amanda',\n",
       "  'song_url': '/wiki/Amanda_(Boston_song)'},\n",
       " {'_id': ObjectId('5f4096d872ce53c57cc5f108'),\n",
       "  'artist_name': 'Shania Twain',\n",
       "  'artist_url': '/wiki/Shania_Twain',\n",
       "  'producer_name': 'Robert John \"Mutt\" LangeShania Twain',\n",
       "  'producer_url': None,\n",
       "  'song_name': \"You're Still the One\",\n",
       "  'song_url': '/wiki/You%27re_Still_the_One'},\n",
       " {'_id': ObjectId('5f4096d872ce53c57cc5f109'),\n",
       "  'artist_name': 'MC Hammer',\n",
       "  'artist_url': '/wiki/MC_Hammer',\n",
       "  'producer_name': 'Stanley BurrellRick JamesAlonzo Miller',\n",
       "  'producer_url': None,\n",
       "  'song_name': \"U Can't Touch This\",\n",
       "  'song_url': '/wiki/U_Can%27t_Touch_This'},\n",
       " {'_id': ObjectId('5f4096d872ce53c57cc5f10a'),\n",
       "  'artist_name': 'Lil Wayne',\n",
       "  'artist_url': '/wiki/Lil_Wayne',\n",
       "  'producer_name': 'Dwayne CarterStephen GarrettDarius HarrisonJim JonsinRex ZamorMarcus Cooper',\n",
       "  'producer_url': None,\n",
       "  'song_name': 'Lollipop',\n",
       "  'song_url': '/wiki/Lollipop_(Lil_Wayne_song)'},\n",
       " {'_id': ObjectId('5f4096d872ce53c57cc5f10a'),\n",
       "  'artist_name': 'Static Major',\n",
       "  'artist_url': '/wiki/Static_Major',\n",
       "  'producer_name': 'Dwayne CarterStephen GarrettDarius HarrisonJim JonsinRex ZamorMarcus Cooper',\n",
       "  'producer_url': None,\n",
       "  'song_name': 'Lollipop',\n",
       "  'song_url': '/wiki/Lollipop_(Lil_Wayne_song)'},\n",
       " {'_id': ObjectId('5f4096d872ce53c57cc5f10c'),\n",
       "  'artist_name': 'Sister Janet Mead',\n",
       "  'artist_url': '/wiki/Sister_Janet_Mead',\n",
       "  'producer_name': 'TraditionalArnold Strals',\n",
       "  'producer_url': None,\n",
       "  'song_name': \"The Lord's Prayer\",\n",
       "  'song_url': '/wiki/The_Lord%27s_Prayer_(Sister_Janet_Mead_song)'},\n",
       " {'_id': ObjectId('5f4096d872ce53c57cc5f10d'),\n",
       "  'artist_name': 'Ludacris',\n",
       "  'artist_url': '/wiki/Ludacris',\n",
       "  'producer_name': 'J. SmithC. LawsonB. S',\n",
       "  'producer_url': None,\n",
       "  'song_name': 'Move Bitch',\n",
       "  'song_url': '/wiki/Move_Bitch'},\n",
       " {'_id': ObjectId('5f4096d872ce53c57cc5f10d'),\n",
       "  'artist_name': 'Mystikal',\n",
       "  'artist_url': '/wiki/Mystikal',\n",
       "  'producer_name': 'J. SmithC. LawsonB. S',\n",
       "  'producer_url': None,\n",
       "  'song_name': 'Move Bitch',\n",
       "  'song_url': '/wiki/Move_Bitch'}]"
      ]
     },
     "execution_count": 50,
     "metadata": {},
     "output_type": "execute_result"
    }
   ],
   "source": [
    "tree[1000:1009]"
   ]
  },
  {
   "cell_type": "code",
   "execution_count": 74,
   "metadata": {
    "ExecuteTime": {
     "end_time": "2020-08-22T04:46:50.647118Z",
     "start_time": "2020-08-22T04:46:50.621089Z"
    }
   },
   "outputs": [],
   "source": [
    "g = nx.MultiGraph()\n",
    "for entry in tree[-100:]:\n",
    "    if entry['artist_url']==None or entry['producer_url']==None:\n",
    "        continue\n",
    "    g.add_node(entry['artist_url'], label=entry['artist_name'], category='artist')\n",
    "    g.add_node(entry['producer_url'], label=entry['producer_name'], category='producer')\n",
    "    g.add_edge(entry['artist_url'],entry['producer_url'])"
   ]
  },
  {
   "cell_type": "code",
   "execution_count": 73,
   "metadata": {
    "ExecuteTime": {
     "end_time": "2020-08-22T04:46:33.087126Z",
     "start_time": "2020-08-22T04:46:33.074126Z"
    }
   },
   "outputs": [
    {
     "data": {
      "text/plain": [
       "NodeView(('/wiki/Christopher_Cross', '/wiki/The_Beau_Brummels', '/wiki/Ron_Elliott_(musician)', '/wiki/Monica_(singer)', '/wiki/Daryl_Simmons', '/wiki/The_Fleetwoods', '/wiki/DeWayne_Blackwell', '/wiki/Stevie_Wonder', '/wiki/Little_River_Band', '/wiki/David_Briggs_(Australian_musician)', '/wiki/Passenger_(singer)', '/wiki/Three_Dog_Night', '/wiki/Hoyt_Axton', '/wiki/Ray_Stevens', '/wiki/Major_Lance', '/wiki/Curtis_Mayfield', '/wiki/The_Irish_Rovers', '/wiki/Shel_Silverstein', '/wiki/R._Kelly', '/wiki/The_Isley_Brothers', '/wiki/Linkin_Park', '/wiki/Sam_Cooke', '/wiki/Paul_Young', '/wiki/Daryl_Hall', '/wiki/John_Mellencamp', '/wiki/Don_Gibson', '/wiki/Alicia_Keys', '/wiki/Golden_Earring', '/wiki/George_Kooymans', '/wiki/The_Miracles', '/wiki/Terry_%22Buzzy%22_Johnson', '/wiki/Johnny_Nash', '/wiki/The_Seekers', '/wiki/Tom_Springfield', '/wiki/The_5th_Dimension', '/wiki/Laura_Nyro', '/wiki/Fleetwood_Mac', '/wiki/Stevie_Nicks', '/wiki/Richard_Harris', '/wiki/Jimmy_Webb'))"
      ]
     },
     "execution_count": 73,
     "metadata": {},
     "output_type": "execute_result"
    }
   ],
   "source": [
    "g.nodes()"
   ]
  },
  {
   "cell_type": "code",
   "execution_count": 72,
   "metadata": {
    "ExecuteTime": {
     "end_time": "2020-08-22T04:46:18.616613Z",
     "start_time": "2020-08-22T04:46:18.599604Z"
    }
   },
   "outputs": [
    {
     "data": {
      "text/plain": [
       "EdgeView([('/wiki/Christopher_Cross', '/wiki/Christopher_Cross'), ('/wiki/The_Beau_Brummels', '/wiki/Ron_Elliott_(musician)'), ('/wiki/Monica_(singer)', '/wiki/Daryl_Simmons'), ('/wiki/The_Fleetwoods', '/wiki/DeWayne_Blackwell'), ('/wiki/Stevie_Wonder', '/wiki/Stevie_Wonder'), ('/wiki/Little_River_Band', '/wiki/David_Briggs_(Australian_musician)'), ('/wiki/Passenger_(singer)', '/wiki/Passenger_(singer)'), ('/wiki/Three_Dog_Night', '/wiki/Hoyt_Axton'), ('/wiki/Ray_Stevens', '/wiki/Ray_Stevens'), ('/wiki/Major_Lance', '/wiki/Curtis_Mayfield'), ('/wiki/The_Irish_Rovers', '/wiki/Shel_Silverstein'), ('/wiki/R._Kelly', '/wiki/R._Kelly'), ('/wiki/R._Kelly', '/wiki/The_Isley_Brothers'), ('/wiki/Linkin_Park', '/wiki/Linkin_Park'), ('/wiki/Sam_Cooke', '/wiki/Sam_Cooke'), ('/wiki/Paul_Young', '/wiki/Daryl_Hall'), ('/wiki/John_Mellencamp', '/wiki/John_Mellencamp'), ('/wiki/Don_Gibson', '/wiki/Don_Gibson'), ('/wiki/Alicia_Keys', '/wiki/Alicia_Keys'), ('/wiki/Golden_Earring', '/wiki/George_Kooymans'), ('/wiki/The_Miracles', '/wiki/Terry_%22Buzzy%22_Johnson'), ('/wiki/Johnny_Nash', '/wiki/Johnny_Nash'), ('/wiki/The_Seekers', '/wiki/Tom_Springfield'), ('/wiki/The_5th_Dimension', '/wiki/Laura_Nyro'), ('/wiki/Fleetwood_Mac', '/wiki/Stevie_Nicks'), ('/wiki/Richard_Harris', '/wiki/Jimmy_Webb')])"
      ]
     },
     "execution_count": 72,
     "metadata": {},
     "output_type": "execute_result"
    }
   ],
   "source": [
    "g.edges()\n"
   ]
  },
  {
   "cell_type": "code",
   "execution_count": 53,
   "metadata": {
    "ExecuteTime": {
     "end_time": "2020-08-22T04:40:14.515351Z",
     "start_time": "2020-08-22T04:40:13.149342Z"
    }
   },
   "outputs": [],
   "source": [
    "import matplotlib.pyplot as plt"
   ]
  },
  {
   "cell_type": "code",
   "execution_count": 75,
   "metadata": {
    "ExecuteTime": {
     "end_time": "2020-08-22T04:46:53.809939Z",
     "start_time": "2020-08-22T04:46:53.668917Z"
    },
    "scrolled": true
   },
   "outputs": [
    {
     "data": {
      "image/png": "[encoded data removed]",
      "text/plain": [
       "<Figure size 432x288 with 1 Axes>"
      ]
     },
     "metadata": {},
     "output_type": "display_data"
    }
   ],
   "source": [
    "plt.subplot(121)\n",
    "nx.draw(g, with_labels=False, font_weight='bold')\n",
    "\n",
    "plt.show()"
   ]
  },
  {
   "cell_type": "code",
   "execution_count": null,
   "metadata": {},
   "outputs": [],
   "source": []
  },
  {
   "cell_type": "code",
   "execution_count": null,
   "metadata": {
    "ExecuteTime": {
     "start_time": "2020-08-23T03:01:59.758Z"
    }
   },
   "outputs": [],
   "source": [
    "import pdb\n",
    "\n",
    "def add_to_life_universe_everything(x):\n",
    "    answer = 42\n",
    "    pdb.set_trace()\n",
    "    answer += x\n",
    "    \n",
    "    return answer\n",
    "\n",
    "add_to_life_universe_everything(12)"
   ]
  }
 ],
 "metadata": {
  "kernelspec": {
   "display_name": "Python 3",
   "language": "python",
   "name": "python3"
  },
  "language_info": {
   "codemirror_mode": {
    "name": "ipython",
    "version": 3
   },
   "file_extension": ".py",
   "mimetype": "text/x-python",
   "name": "python",
   "nbconvert_exporter": "python",
   "pygments_lexer": "ipython3",
   "version": "3.6.4"
  },
  "toc": {
   "base_numbering": 1,
   "nav_menu": {},
   "number_sections": true,
   "sideBar": true,
   "skip_h1_title": false,
   "title_cell": "Table of Contents",
   "title_sidebar": "Contents",
   "toc_cell": false,
   "toc_position": {},
   "toc_section_display": true,
   "toc_window_display": false
  }
 },
 "nbformat": 4,
 "nbformat_minor": 2
}

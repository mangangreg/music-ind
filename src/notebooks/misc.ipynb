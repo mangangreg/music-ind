{
 "cells": [
  {
   "cell_type": "code",
   "execution_count": 1,
   "metadata": {
    "ExecuteTime": {
     "end_time": "2020-08-07T02:54:51.223935Z",
     "start_time": "2020-08-07T02:54:48.275530Z"
    }
   },
   "outputs": [],
   "source": [
    "import re\n",
    "import json\n",
    "import sys\n",
    "from pathlib import Path\n",
    "\n",
    "from tqdm.notebook import tqdm\n",
    "import pandas as pd\n",
    "tqdm.pandas()\n",
    "\n",
    "sys.path.append('../..')\n",
    "from src.tools import paths\n",
    "from src.tools import data_tools as dt\n",
    "from src.tools import scrape_tools as st\n",
    "from src.scripts import scrape_songpage as scrapesong"
   ]
  },
  {
   "cell_type": "code",
   "execution_count": 4,
   "metadata": {
    "ExecuteTime": {
     "end_time": "2020-08-05T01:37:17.238785Z",
     "start_time": "2020-08-05T01:37:17.233839Z"
    }
   },
   "outputs": [],
   "source": [
    "from importlib import reload"
   ]
  },
  {
   "cell_type": "code",
   "execution_count": 7,
   "metadata": {
    "ExecuteTime": {
     "end_time": "2020-08-05T01:37:57.530373Z",
     "start_time": "2020-08-05T01:37:57.515413Z"
    }
   },
   "outputs": [
    {
     "data": {
      "text/plain": [
       "<module 'src.tools.scrape_tools' from '../..\\\\src\\\\tools\\\\scrape_tools.py'>"
      ]
     },
     "execution_count": 7,
     "metadata": {},
     "output_type": "execute_result"
    }
   ],
   "source": [
    "reload(scrapesong)\n",
    "reload(st)"
   ]
  },
  {
   "cell_type": "code",
   "execution_count": 2,
   "metadata": {
    "ExecuteTime": {
     "end_time": "2020-08-05T02:16:00.093467Z",
     "start_time": "2020-08-05T02:15:59.225450Z"
    },
    "scrolled": false
   },
   "outputs": [
    {
     "data": {
      "text/plain": [
       "{'artists': [{'artist': 'Bruce Springsteen',\n",
       "   'order': 0,\n",
       "   'url': '/wiki/Bruce_Springsteen'}],\n",
       " 'genres': ['Soft rock', ''],\n",
       " 'id': '00a8adec61',\n",
       " 'length': '3:15 (single edit)4:12 (soundtrack version)',\n",
       " 'producers': [{'name': 'Bruce Springsteen',\n",
       "   'order': 0,\n",
       "   'url': '/wiki/Bruce_Springsteen'},\n",
       "  {'name': 'Chuck Plotkin', 'order': 1, 'url': '/wiki/Chuck_Plotkin'}],\n",
       " 'release_date': 'February 2, 1994',\n",
       " 'songwriters': [{'name': 'Bruce Springsteen',\n",
       "   'order': 0,\n",
       "   'url': '/wiki/Bruce_Springsteen'}],\n",
       " 'title': 'Streets of Philadelphia',\n",
       " 'url': '/wiki/Streets_of_Philadelphia'}"
      ]
     },
     "execution_count": 2,
     "metadata": {},
     "output_type": "execute_result"
    }
   ],
   "source": [
    "scrapesong.pull_info('/wiki/Streets_of_Philadelphia', False, Path.cwd())"
   ]
  },
  {
   "cell_type": "code",
   "execution_count": 14,
   "metadata": {
    "ExecuteTime": {
     "end_time": "2020-08-05T01:28:36.246876Z",
     "start_time": "2020-08-05T01:28:36.239864Z"
    }
   },
   "outputs": [
    {
     "data": {
      "text/plain": [
       "'Bruce Springsteen[3]'"
      ]
     },
     "execution_count": 14,
     "metadata": {},
     "output_type": "execute_result"
    }
   ],
   "source": [
    "st.clean_text('Bruce Springsteen[3]')"
   ]
  },
  {
   "cell_type": "code",
   "execution_count": 20,
   "metadata": {
    "ExecuteTime": {
     "end_time": "2020-08-05T01:32:17.528757Z",
     "start_time": "2020-08-05T01:32:17.520797Z"
    }
   },
   "outputs": [
    {
     "data": {
      "text/plain": [
       "'Bruce Springsteen'"
      ]
     },
     "execution_count": 20,
     "metadata": {},
     "output_type": "execute_result"
    }
   ],
   "source": [
    "\n",
    "re_citation = r\"\\[\\d{1,3}\\]\"\n",
    "\n",
    "re.sub(st.re_citation, '','Bruce Springsteen[3]')"
   ]
  },
  {
   "cell_type": "code",
   "execution_count": 3,
   "metadata": {
    "ExecuteTime": {
     "end_time": "2020-08-05T02:21:49.439002Z",
     "start_time": "2020-08-05T02:21:49.381156Z"
    }
   },
   "outputs": [
    {
     "data": {
      "text/plain": [
       "4715"
      ]
     },
     "execution_count": 3,
     "metadata": {},
     "output_type": "execute_result"
    }
   ],
   "source": [
    "len(list(Path('../../data/songs').glob('*.json')))"
   ]
  },
  {
   "cell_type": "code",
   "execution_count": 24,
   "metadata": {
    "ExecuteTime": {
     "end_time": "2020-08-05T02:35:29.080440Z",
     "start_time": "2020-08-05T02:35:25.661026Z"
    }
   },
   "outputs": [
    {
     "data": {
      "application/vnd.jupyter.widget-view+json": {
       "model_id": "a0b68c4aa0624655bdede2476ba85bf0",
       "version_major": 2,
       "version_minor": 0
      },
      "text/plain": [
       "HBox(children=(FloatProgress(value=0.0, max=4715.0), HTML(value='')))"
      ]
     },
     "metadata": {},
     "output_type": "display_data"
    },
    {
     "name": "stdout",
     "output_type": "stream",
     "text": [
      "\n"
     ]
    }
   ],
   "source": [
    "data_list = []\n",
    "fpaths  = list(Path('../../data/songs').glob('*.json'))\n",
    "for fpath in tqdm(fpaths):\n",
    "    file = json.load(open(fpath,'r', encoding=\"utf-8\"))\n",
    "    data = {}\n",
    "    data.update({k:file[k] for k in ['id', 'title', 'url']})\n",
    "    \n",
    "    try:\n",
    "        data['artist'] = file['artists'][0]['artist']\n",
    "        for key in ['songwriters', 'producers']:\n",
    "            data[key] = file[key][0]['name']\n",
    "    except:\n",
    "        continue\n",
    "    data_list.append(data)"
   ]
  },
  {
   "cell_type": "code",
   "execution_count": 16,
   "metadata": {
    "ExecuteTime": {
     "end_time": "2020-08-05T02:33:20.034861Z",
     "start_time": "2020-08-05T02:33:20.027881Z"
    }
   },
   "outputs": [
    {
     "data": {
      "text/plain": [
       "{'id': 21849902, 'title': 'I Wanna Be Down', 'url': '/wiki/I_Wanna_Be_Down'}"
      ]
     },
     "execution_count": 16,
     "metadata": {},
     "output_type": "execute_result"
    }
   ],
   "source": [
    "data"
   ]
  },
  {
   "cell_type": "code",
   "execution_count": 20,
   "metadata": {
    "ExecuteTime": {
     "end_time": "2020-08-05T02:34:23.237975Z",
     "start_time": "2020-08-05T02:34:23.229996Z"
    }
   },
   "outputs": [
    {
     "name": "stdout",
     "output_type": "stream",
     "text": [
      "Keith Crouch\n",
      "Keith Crouch\n"
     ]
    }
   ],
   "source": [
    "for key in  ['songwriters', 'producers']:\n",
    "    print(file[key][0]['name'])"
   ]
  },
  {
   "cell_type": "code",
   "execution_count": 25,
   "metadata": {
    "ExecuteTime": {
     "end_time": "2020-08-05T02:35:29.466417Z",
     "start_time": "2020-08-05T02:35:29.410558Z"
    }
   },
   "outputs": [
    {
     "data": {
      "text/html": [
       "<div>\n",
       "<style scoped>\n",
       "    .dataframe tbody tr th:only-of-type {\n",
       "        vertical-align: middle;\n",
       "    }\n",
       "\n",
       "    .dataframe tbody tr th {\n",
       "        vertical-align: top;\n",
       "    }\n",
       "\n",
       "    .dataframe thead th {\n",
       "        text-align: right;\n",
       "    }\n",
       "</style>\n",
       "<table border=\"1\" class=\"dataframe\">\n",
       "  <thead>\n",
       "    <tr style=\"text-align: right;\">\n",
       "      <th></th>\n",
       "      <th>id</th>\n",
       "      <th>title</th>\n",
       "      <th>url</th>\n",
       "      <th>artist</th>\n",
       "      <th>songwriters</th>\n",
       "      <th>producers</th>\n",
       "    </tr>\n",
       "  </thead>\n",
       "  <tbody>\n",
       "    <tr>\n",
       "      <th>0</th>\n",
       "      <td>9854546</td>\n",
       "      <td>Kiss on My List</td>\n",
       "      <td>/wiki/Kiss_on_My_List</td>\n",
       "      <td>Hall &amp; Oates</td>\n",
       "      <td>Daryl Hall</td>\n",
       "      <td>Daryl Hall</td>\n",
       "    </tr>\n",
       "    <tr>\n",
       "      <th>1</th>\n",
       "      <td>39487114</td>\n",
       "      <td>Sherry</td>\n",
       "      <td>/wiki/Sherry_(song)</td>\n",
       "      <td>The Four Seasons</td>\n",
       "      <td>Bob Gaudio</td>\n",
       "      <td>Bob Crewe</td>\n",
       "    </tr>\n",
       "    <tr>\n",
       "      <th>2</th>\n",
       "      <td>51985687</td>\n",
       "      <td>Why Can't This Be Love</td>\n",
       "      <td>/wiki/Why_Can%27t_This_Be_Love</td>\n",
       "      <td>Van Halen</td>\n",
       "      <td>Eddie Van Halen</td>\n",
       "      <td>Mick Jones</td>\n",
       "    </tr>\n",
       "    <tr>\n",
       "      <th>3</th>\n",
       "      <td>68427935</td>\n",
       "      <td>I'm Gonna Love You Just a Little More Baby</td>\n",
       "      <td>/wiki/I%27m_Gonna_Love_You_Just_a_Little_More_...</td>\n",
       "      <td>Barry White</td>\n",
       "      <td>Barry White</td>\n",
       "      <td>Barry White</td>\n",
       "    </tr>\n",
       "    <tr>\n",
       "      <th>4</th>\n",
       "      <td>54945870</td>\n",
       "      <td>Telephone Line</td>\n",
       "      <td>/wiki/Telephone_Line_(song)</td>\n",
       "      <td>Electric Light Orchestra</td>\n",
       "      <td>Jeff Lynne</td>\n",
       "      <td>Jeff Lynne</td>\n",
       "    </tr>\n",
       "    <tr>\n",
       "      <th>...</th>\n",
       "      <td>...</td>\n",
       "      <td>...</td>\n",
       "      <td>...</td>\n",
       "      <td>...</td>\n",
       "      <td>...</td>\n",
       "      <td>...</td>\n",
       "    </tr>\n",
       "    <tr>\n",
       "      <th>4166</th>\n",
       "      <td>92958312</td>\n",
       "      <td>Sara</td>\n",
       "      <td>/wiki/Sara_(Fleetwood_Mac_song)</td>\n",
       "      <td>Fleetwood Mac</td>\n",
       "      <td>Stevie Nicks</td>\n",
       "      <td>Fleetwood Mac, Richard Dashut and Ken Caillat</td>\n",
       "    </tr>\n",
       "    <tr>\n",
       "      <th>4167</th>\n",
       "      <td>22724540</td>\n",
       "      <td>I Can't Get Next to You</td>\n",
       "      <td>/wiki/I_Can%27t_Get_Next_to_You</td>\n",
       "      <td>The Temptations</td>\n",
       "      <td>Norman Whitfield  Barrett Strong</td>\n",
       "      <td>Norman Whitfield\\nPlatinum (RIAA)</td>\n",
       "    </tr>\n",
       "    <tr>\n",
       "      <th>4168</th>\n",
       "      <td>82830309</td>\n",
       "      <td>Sexual Healing</td>\n",
       "      <td>/wiki/Sexual_Healing</td>\n",
       "      <td>Marvin Gaye</td>\n",
       "      <td>Marvin Gaye</td>\n",
       "      <td>Marvin Gaye</td>\n",
       "    </tr>\n",
       "    <tr>\n",
       "      <th>4169</th>\n",
       "      <td>93549901</td>\n",
       "      <td>MacArthur Park</td>\n",
       "      <td>/wiki/MacArthur_Park_(song)</td>\n",
       "      <td>Richard Harris</td>\n",
       "      <td>Jimmy Webb</td>\n",
       "      <td>Jimmy Webb</td>\n",
       "    </tr>\n",
       "    <tr>\n",
       "      <th>4170</th>\n",
       "      <td>21849902</td>\n",
       "      <td>I Wanna Be Down</td>\n",
       "      <td>/wiki/I_Wanna_Be_Down</td>\n",
       "      <td>Brandy</td>\n",
       "      <td>Keith Crouch</td>\n",
       "      <td>Keith Crouch</td>\n",
       "    </tr>\n",
       "  </tbody>\n",
       "</table>\n",
       "<p>4171 rows × 6 columns</p>\n",
       "</div>"
      ],
      "text/plain": [
       "            id                                       title  \\\n",
       "0      9854546                             Kiss on My List   \n",
       "1     39487114                                      Sherry   \n",
       "2     51985687                      Why Can't This Be Love   \n",
       "3     68427935  I'm Gonna Love You Just a Little More Baby   \n",
       "4     54945870                              Telephone Line   \n",
       "...        ...                                         ...   \n",
       "4166  92958312                                        Sara   \n",
       "4167  22724540                     I Can't Get Next to You   \n",
       "4168  82830309                              Sexual Healing   \n",
       "4169  93549901                              MacArthur Park   \n",
       "4170  21849902                             I Wanna Be Down   \n",
       "\n",
       "                                                    url  \\\n",
       "0                                 /wiki/Kiss_on_My_List   \n",
       "1                                   /wiki/Sherry_(song)   \n",
       "2                        /wiki/Why_Can%27t_This_Be_Love   \n",
       "3     /wiki/I%27m_Gonna_Love_You_Just_a_Little_More_...   \n",
       "4                           /wiki/Telephone_Line_(song)   \n",
       "...                                                 ...   \n",
       "4166                    /wiki/Sara_(Fleetwood_Mac_song)   \n",
       "4167                    /wiki/I_Can%27t_Get_Next_to_You   \n",
       "4168                               /wiki/Sexual_Healing   \n",
       "4169                        /wiki/MacArthur_Park_(song)   \n",
       "4170                              /wiki/I_Wanna_Be_Down   \n",
       "\n",
       "                        artist                       songwriters  \\\n",
       "0                 Hall & Oates                        Daryl Hall   \n",
       "1             The Four Seasons                        Bob Gaudio   \n",
       "2                    Van Halen                   Eddie Van Halen   \n",
       "3                  Barry White                       Barry White   \n",
       "4     Electric Light Orchestra                        Jeff Lynne   \n",
       "...                        ...                               ...   \n",
       "4166             Fleetwood Mac                      Stevie Nicks   \n",
       "4167           The Temptations  Norman Whitfield  Barrett Strong   \n",
       "4168               Marvin Gaye                       Marvin Gaye   \n",
       "4169            Richard Harris                        Jimmy Webb   \n",
       "4170                    Brandy                      Keith Crouch   \n",
       "\n",
       "                                          producers  \n",
       "0                                        Daryl Hall  \n",
       "1                                         Bob Crewe  \n",
       "2                                        Mick Jones  \n",
       "3                                       Barry White  \n",
       "4                                        Jeff Lynne  \n",
       "...                                             ...  \n",
       "4166  Fleetwood Mac, Richard Dashut and Ken Caillat  \n",
       "4167              Norman Whitfield\\nPlatinum (RIAA)  \n",
       "4168                                    Marvin Gaye  \n",
       "4169                                     Jimmy Webb  \n",
       "4170                                   Keith Crouch  \n",
       "\n",
       "[4171 rows x 6 columns]"
      ]
     },
     "execution_count": 25,
     "metadata": {},
     "output_type": "execute_result"
    }
   ],
   "source": [
    "df = pd.DataFrame(data_list)\n",
    "df"
   ]
  },
  {
   "cell_type": "code",
   "execution_count": null,
   "metadata": {},
   "outputs": [],
   "source": []
  },
  {
   "cell_type": "code",
   "execution_count": 40,
   "metadata": {
    "ExecuteTime": {
     "end_time": "2020-08-05T02:56:43.122853Z",
     "start_time": "2020-08-05T02:56:43.111880Z"
    }
   },
   "outputs": [
    {
     "data": {
      "text/plain": [
       "['a and b', ' c', '  d']"
      ]
     },
     "execution_count": 40,
     "metadata": {},
     "output_type": "execute_result"
    }
   ],
   "source": [
    "test = \"a and b, c, and d\"\n",
    "it = re.finditer(r'and', test)\n",
    "a1,a2 = list(it)[-1].span()\n",
    "(test[:a1] + test[a2:]).split(',')"
   ]
  }
 ],
 "metadata": {
  "kernelspec": {
   "display_name": "Python 3",
   "language": "python",
   "name": "python3"
  },
  "language_info": {
   "codemirror_mode": {
    "name": "ipython",
    "version": 3
   },
   "file_extension": ".py",
   "mimetype": "text/x-python",
   "name": "python",
   "nbconvert_exporter": "python",
   "pygments_lexer": "ipython3",
   "version": "3.6.4"
  },
  "toc": {
   "base_numbering": 1,
   "nav_menu": {},
   "number_sections": true,
   "sideBar": true,
   "skip_h1_title": false,
   "title_cell": "Table of Contents",
   "title_sidebar": "Contents",
   "toc_cell": false,
   "toc_position": {},
   "toc_section_display": true,
   "toc_window_display": false
  }
 },
 "nbformat": 4,
 "nbformat_minor": 2
}

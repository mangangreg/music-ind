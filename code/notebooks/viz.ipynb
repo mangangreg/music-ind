{
 "cells": [
  {
   "cell_type": "markdown",
   "metadata": {},
   "source": [
    "# Imports"
   ]
  },
  {
   "cell_type": "code",
   "execution_count": 1,
   "metadata": {
    "ExecuteTime": {
     "end_time": "2020-07-04T20:07:53.201058Z",
     "start_time": "2020-07-04T20:07:52.604000Z"
    }
   },
   "outputs": [],
   "source": [
    "import sys\n",
    "\n",
    "sys.path.append('..')\n",
    "\n",
    "from tools import paths\n",
    "from tools import data_tools as dt\n",
    "from tools import scrape_tools as st"
   ]
  },
  {
   "cell_type": "code",
   "execution_count": 4,
   "metadata": {
    "ExecuteTime": {
     "end_time": "2020-07-04T20:08:04.628455Z",
     "start_time": "2020-07-04T20:08:04.577593Z"
    },
    "scrolled": true
   },
   "outputs": [
    {
     "data": {
      "text/html": [
       "<div>\n",
       "<style scoped>\n",
       "    .dataframe tbody tr th:only-of-type {\n",
       "        vertical-align: middle;\n",
       "    }\n",
       "\n",
       "    .dataframe tbody tr th {\n",
       "        vertical-align: top;\n",
       "    }\n",
       "\n",
       "    .dataframe thead th {\n",
       "        text-align: right;\n",
       "    }\n",
       "</style>\n",
       "<table border=\"1\" class=\"dataframe\">\n",
       "  <thead>\n",
       "    <tr style=\"text-align: right;\">\n",
       "      <th></th>\n",
       "      <th>entry_date</th>\n",
       "      <th>single</th>\n",
       "      <th>artist</th>\n",
       "      <th>peak</th>\n",
       "      <th>peak_date</th>\n",
       "      <th>weeks_in_top</th>\n",
       "      <th>single_url</th>\n",
       "    </tr>\n",
       "  </thead>\n",
       "  <tbody>\n",
       "    <tr>\n",
       "      <th>0</th>\n",
       "      <td>December 29(2018) 2020</td>\n",
       "      <td>\"It's the Most Wonderful Time of the Year\"[A]</td>\n",
       "      <td>Andy Williams</td>\n",
       "      <td>7</td>\n",
       "      <td>January 4 2020</td>\n",
       "      <td>2</td>\n",
       "      <td>/wiki/It%27s_the_Most_Wonderful_Time_of_the_Year</td>\n",
       "    </tr>\n",
       "    <tr>\n",
       "      <th>1</th>\n",
       "      <td>January 5 2020</td>\n",
       "      <td>\"Jingle Bell Rock\"</td>\n",
       "      <td>Bobby Helms</td>\n",
       "      <td>3</td>\n",
       "      <td>January 4 2020</td>\n",
       "      <td>3</td>\n",
       "      <td>/wiki/Jingle_Bell_Rock</td>\n",
       "    </tr>\n",
       "    <tr>\n",
       "      <th>2</th>\n",
       "      <td>January 5 2020</td>\n",
       "      <td>\"Holly Jolly Christmas\"</td>\n",
       "      <td>Burl Ives</td>\n",
       "      <td>4</td>\n",
       "      <td>January 4 2020</td>\n",
       "      <td>4</td>\n",
       "      <td>/wiki/Holly_Jolly_Christmas</td>\n",
       "    </tr>\n",
       "    <tr>\n",
       "      <th>3</th>\n",
       "      <td>November 16 2020</td>\n",
       "      <td>\"Memories\"</td>\n",
       "      <td>Maroon 5</td>\n",
       "      <td>2</td>\n",
       "      <td>January 11 2020</td>\n",
       "      <td>18</td>\n",
       "      <td>/wiki/Memories_(Maroon_5_song)</td>\n",
       "    </tr>\n",
       "    <tr>\n",
       "      <th>4</th>\n",
       "      <td>December 21 2020</td>\n",
       "      <td>\"Dance Monkey\"[B]</td>\n",
       "      <td>Tones and I</td>\n",
       "      <td>4</td>\n",
       "      <td>February 29 2020</td>\n",
       "      <td>11</td>\n",
       "      <td>/wiki/Dance_Monkey</td>\n",
       "    </tr>\n",
       "    <tr>\n",
       "      <th>5</th>\n",
       "      <td>January 11 2020</td>\n",
       "      <td>\"The Box\"</td>\n",
       "      <td>Roddy Ricch</td>\n",
       "      <td>1</td>\n",
       "      <td>January 18 2020</td>\n",
       "      <td>25</td>\n",
       "      <td>/wiki/The_Box_(Roddy_Ricch_song)</td>\n",
       "    </tr>\n",
       "    <tr>\n",
       "      <th>6</th>\n",
       "      <td>January 18 2020</td>\n",
       "      <td>\"Yummy\" ◁</td>\n",
       "      <td>Justin Bieber</td>\n",
       "      <td>2</td>\n",
       "      <td>January 18 2020</td>\n",
       "      <td>2</td>\n",
       "      <td>/wiki/Yummy_(Justin_Bieber_song)</td>\n",
       "    </tr>\n",
       "    <tr>\n",
       "      <th>7</th>\n",
       "      <td>January 25 2020</td>\n",
       "      <td>\"Life Is Good\"[I] ◁</td>\n",
       "      <td>Future featuring Drake</td>\n",
       "      <td>2</td>\n",
       "      <td>January 25 2020</td>\n",
       "      <td>17</td>\n",
       "      <td>/wiki/Life_Is_Good_(song)</td>\n",
       "    </tr>\n",
       "    <tr>\n",
       "      <th>8</th>\n",
       "      <td>February 1 2020</td>\n",
       "      <td>\"Godzilla\" ◁</td>\n",
       "      <td>Eminem featuring Juice Wrld</td>\n",
       "      <td>3</td>\n",
       "      <td>February 1 2020</td>\n",
       "      <td>1</td>\n",
       "      <td>/wiki/Godzilla_(Eminem_song)</td>\n",
       "    </tr>\n",
       "    <tr>\n",
       "      <th>9</th>\n",
       "      <td>February 8 2020</td>\n",
       "      <td>\"Don't Start Now\"</td>\n",
       "      <td>Dua Lipa</td>\n",
       "      <td>2</td>\n",
       "      <td>March 21 2020</td>\n",
       "      <td>20</td>\n",
       "      <td>/wiki/Don%27t_Start_Now_(Dua_Lipa_song)</td>\n",
       "    </tr>\n",
       "    <tr>\n",
       "      <th>10</th>\n",
       "      <td>February 29 2020</td>\n",
       "      <td>\"Intentions\"[D][I]</td>\n",
       "      <td>Justin Bieber featuring Quavo</td>\n",
       "      <td>5</td>\n",
       "      <td>June 20 2020</td>\n",
       "      <td>17*</td>\n",
       "      <td>/wiki/Intentions_(Justin_Bieber_song)</td>\n",
       "    </tr>\n",
       "    <tr>\n",
       "      <th>11</th>\n",
       "      <td>February 29 2020</td>\n",
       "      <td>\"Blinding Lights\"</td>\n",
       "      <td>The Weeknd</td>\n",
       "      <td>1</td>\n",
       "      <td>April 4 2020</td>\n",
       "      <td>19*</td>\n",
       "      <td>/wiki/Blinding_Lights</td>\n",
       "    </tr>\n",
       "    <tr>\n",
       "      <th>12</th>\n",
       "      <td>March 7 2020</td>\n",
       "      <td>\"On\" ◁</td>\n",
       "      <td>BTS</td>\n",
       "      <td>4</td>\n",
       "      <td>March 7 2020</td>\n",
       "      <td>1</td>\n",
       "      <td>/wiki/On_(song)</td>\n",
       "    </tr>\n",
       "    <tr>\n",
       "      <th>13</th>\n",
       "      <td>March 14 2020</td>\n",
       "      <td>\"Stupid Love\" ◁</td>\n",
       "      <td>Lady Gaga</td>\n",
       "      <td>5</td>\n",
       "      <td>March 14 2020</td>\n",
       "      <td>1</td>\n",
       "      <td>/wiki/Stupid_Love_(Lady_Gaga_song)</td>\n",
       "    </tr>\n",
       "    <tr>\n",
       "      <th>14</th>\n",
       "      <td>March 21 2020</td>\n",
       "      <td>\"Baby Pluto\" ◁</td>\n",
       "      <td>Lil Uzi Vert</td>\n",
       "      <td>6</td>\n",
       "      <td>March 21 2020</td>\n",
       "      <td>1</td>\n",
       "      <td>/wiki/Baby_Pluto</td>\n",
       "    </tr>\n",
       "    <tr>\n",
       "      <th>15</th>\n",
       "      <td>March 21 2020</td>\n",
       "      <td>\"Lo Mein\" ◁</td>\n",
       "      <td>Lil Uzi Vert</td>\n",
       "      <td>8</td>\n",
       "      <td>March 21 2020</td>\n",
       "      <td>1</td>\n",
       "      <td>/wiki/Lo_Mein_(song)</td>\n",
       "    </tr>\n",
       "    <tr>\n",
       "      <th>16</th>\n",
       "      <td>March 21 2020</td>\n",
       "      <td>\"Silly Watch\" ◁</td>\n",
       "      <td>Lil Uzi Vert</td>\n",
       "      <td>9</td>\n",
       "      <td>March 21 2020</td>\n",
       "      <td>1</td>\n",
       "      <td>/wiki/Silly_Watch</td>\n",
       "    </tr>\n",
       "    <tr>\n",
       "      <th>17</th>\n",
       "      <td>March 28 2020</td>\n",
       "      <td>\"Adore You\"</td>\n",
       "      <td>Harry Styles</td>\n",
       "      <td>6</td>\n",
       "      <td>April 11 2020</td>\n",
       "      <td>7</td>\n",
       "      <td>/wiki/Adore_You_(Harry_Styles_song)</td>\n",
       "    </tr>\n",
       "    <tr>\n",
       "      <th>18</th>\n",
       "      <td>April 4 2020</td>\n",
       "      <td>\"Say So\"</td>\n",
       "      <td>Doja Cat1</td>\n",
       "      <td>1</td>\n",
       "      <td>May 16 2020</td>\n",
       "      <td>14*</td>\n",
       "      <td>/wiki/Say_So_(Doja_Cat_song)</td>\n",
       "    </tr>\n",
       "    <tr>\n",
       "      <th>19</th>\n",
       "      <td>April 18 2020</td>\n",
       "      <td>\"Toosie Slide\" ◁</td>\n",
       "      <td>Drake</td>\n",
       "      <td>1</td>\n",
       "      <td>April 18 2020</td>\n",
       "      <td>10</td>\n",
       "      <td>/wiki/Toosie_Slide</td>\n",
       "    </tr>\n",
       "    <tr>\n",
       "      <th>20</th>\n",
       "      <td>May 2 2020</td>\n",
       "      <td>\"Rockstar\"[H] ◁</td>\n",
       "      <td>DaBaby featuring Roddy Ricch</td>\n",
       "      <td>1</td>\n",
       "      <td>June 13 2020</td>\n",
       "      <td>9*</td>\n",
       "      <td>/wiki/Rockstar_(DaBaby_song)</td>\n",
       "    </tr>\n",
       "    <tr>\n",
       "      <th>21</th>\n",
       "      <td>May 9 2020</td>\n",
       "      <td>\"The Scotts\" ◁</td>\n",
       "      <td>The Scotts, Travis Scott and Kid Cudi</td>\n",
       "      <td>1</td>\n",
       "      <td>May 9 2020</td>\n",
       "      <td>1</td>\n",
       "      <td>/wiki/The_Scotts</td>\n",
       "    </tr>\n",
       "    <tr>\n",
       "      <th>22</th>\n",
       "      <td>May 9 2020</td>\n",
       "      <td>\"Savage\"</td>\n",
       "      <td>Megan Thee Stallion featuring Beyoncé2</td>\n",
       "      <td>1</td>\n",
       "      <td>May 30 2020</td>\n",
       "      <td>9*</td>\n",
       "      <td>/wiki/Savage_(song)</td>\n",
       "    </tr>\n",
       "    <tr>\n",
       "      <th>23</th>\n",
       "      <td>May 16 2020</td>\n",
       "      <td>\"Pain 1993\" ◁</td>\n",
       "      <td>Drake featuring Playboi Carti</td>\n",
       "      <td>7</td>\n",
       "      <td>May 16 2020</td>\n",
       "      <td>1</td>\n",
       "      <td>/wiki/Pain_1993</td>\n",
       "    </tr>\n",
       "    <tr>\n",
       "      <th>24</th>\n",
       "      <td>May 23 2020</td>\n",
       "      <td>\"Stuck with U\" ◁</td>\n",
       "      <td>Ariana Grande and Justin Bieber</td>\n",
       "      <td>1</td>\n",
       "      <td>May 23 2020</td>\n",
       "      <td>1</td>\n",
       "      <td>/wiki/Stuck_with_U</td>\n",
       "    </tr>\n",
       "    <tr>\n",
       "      <th>25</th>\n",
       "      <td>May 23 2020</td>\n",
       "      <td>\"Gooba\" ◁</td>\n",
       "      <td>6ix9ine</td>\n",
       "      <td>3</td>\n",
       "      <td>May 23 2020</td>\n",
       "      <td>1</td>\n",
       "      <td>/wiki/Gooba</td>\n",
       "    </tr>\n",
       "    <tr>\n",
       "      <th>26</th>\n",
       "      <td>June 6 2020</td>\n",
       "      <td>\"Rain on Me\" ◁</td>\n",
       "      <td>Lady Gaga and Ariana Grande</td>\n",
       "      <td>1</td>\n",
       "      <td>June 6 2020</td>\n",
       "      <td>4</td>\n",
       "      <td>/wiki/Rain_on_Me_(Lady_Gaga_and_Ariana_Grande_...</td>\n",
       "    </tr>\n",
       "    <tr>\n",
       "      <th>27</th>\n",
       "      <td>June 13 2020</td>\n",
       "      <td>\"Roses\"</td>\n",
       "      <td>Saint Jhn</td>\n",
       "      <td>4</td>\n",
       "      <td>July 4 2020</td>\n",
       "      <td>4*</td>\n",
       "      <td>/wiki/Roses_(Saint_Jhn_song)</td>\n",
       "    </tr>\n",
       "    <tr>\n",
       "      <th>28</th>\n",
       "      <td>June 27 2020</td>\n",
       "      <td>\"Trollz\" ◁</td>\n",
       "      <td>6ix9ine and Nicki Minaj</td>\n",
       "      <td>1</td>\n",
       "      <td>June 27 2020</td>\n",
       "      <td>1</td>\n",
       "      <td>/wiki/Trollz_(song)</td>\n",
       "    </tr>\n",
       "    <tr>\n",
       "      <th>29</th>\n",
       "      <td>June 27 2020</td>\n",
       "      <td>\"The Bigger Picture\" ◁</td>\n",
       "      <td>Lil Baby</td>\n",
       "      <td>3</td>\n",
       "      <td>June 27 2020</td>\n",
       "      <td>2*</td>\n",
       "      <td>/wiki/The_Bigger_Picture_(song)</td>\n",
       "    </tr>\n",
       "    <tr>\n",
       "      <th>30</th>\n",
       "      <td>July 4 2020</td>\n",
       "      <td>\"Whats Poppin\"</td>\n",
       "      <td>Jack Harlow</td>\n",
       "      <td>8</td>\n",
       "      <td>July 4 2020</td>\n",
       "      <td>1*</td>\n",
       "      <td>/wiki/Whats_Poppin</td>\n",
       "    </tr>\n",
       "    <tr>\n",
       "      <th>31</th>\n",
       "      <td>July 4 2020</td>\n",
       "      <td>\"Blueberry Faygo\"</td>\n",
       "      <td>Lil Mosey</td>\n",
       "      <td>9</td>\n",
       "      <td>July 4 2020</td>\n",
       "      <td>1*</td>\n",
       "      <td>/wiki/Blueberry_Faygo</td>\n",
       "    </tr>\n",
       "  </tbody>\n",
       "</table>\n",
       "</div>"
      ],
      "text/plain": [
       "                entry_date                                         single  \\\n",
       "0   December 29(2018) 2020  \"It's the Most Wonderful Time of the Year\"[A]   \n",
       "1           January 5 2020                             \"Jingle Bell Rock\"   \n",
       "2           January 5 2020                        \"Holly Jolly Christmas\"   \n",
       "3         November 16 2020                                     \"Memories\"   \n",
       "4         December 21 2020                              \"Dance Monkey\"[B]   \n",
       "5          January 11 2020                                      \"The Box\"   \n",
       "6          January 18 2020                                      \"Yummy\" ◁   \n",
       "7          January 25 2020                            \"Life Is Good\"[I] ◁   \n",
       "8          February 1 2020                                   \"Godzilla\" ◁   \n",
       "9          February 8 2020                              \"Don't Start Now\"   \n",
       "10        February 29 2020                             \"Intentions\"[D][I]   \n",
       "11        February 29 2020                              \"Blinding Lights\"   \n",
       "12            March 7 2020                                         \"On\" ◁   \n",
       "13           March 14 2020                                \"Stupid Love\" ◁   \n",
       "14           March 21 2020                                 \"Baby Pluto\" ◁   \n",
       "15           March 21 2020                                    \"Lo Mein\" ◁   \n",
       "16           March 21 2020                                \"Silly Watch\" ◁   \n",
       "17           March 28 2020                                    \"Adore You\"   \n",
       "18            April 4 2020                                       \"Say So\"   \n",
       "19           April 18 2020                               \"Toosie Slide\" ◁   \n",
       "20              May 2 2020                                \"Rockstar\"[H] ◁   \n",
       "21              May 9 2020                                 \"The Scotts\" ◁   \n",
       "22              May 9 2020                                       \"Savage\"   \n",
       "23             May 16 2020                                  \"Pain 1993\" ◁   \n",
       "24             May 23 2020                               \"Stuck with U\" ◁   \n",
       "25             May 23 2020                                      \"Gooba\" ◁   \n",
       "26             June 6 2020                                 \"Rain on Me\" ◁   \n",
       "27            June 13 2020                                        \"Roses\"   \n",
       "28            June 27 2020                                     \"Trollz\" ◁   \n",
       "29            June 27 2020                         \"The Bigger Picture\" ◁   \n",
       "30             July 4 2020                                 \"Whats Poppin\"   \n",
       "31             July 4 2020                              \"Blueberry Faygo\"   \n",
       "\n",
       "                                    artist  peak         peak_date  \\\n",
       "0                            Andy Williams     7    January 4 2020   \n",
       "1                              Bobby Helms     3    January 4 2020   \n",
       "2                                Burl Ives     4    January 4 2020   \n",
       "3                                 Maroon 5     2   January 11 2020   \n",
       "4                              Tones and I     4  February 29 2020   \n",
       "5                              Roddy Ricch     1   January 18 2020   \n",
       "6                            Justin Bieber     2   January 18 2020   \n",
       "7                   Future featuring Drake     2   January 25 2020   \n",
       "8              Eminem featuring Juice Wrld     3   February 1 2020   \n",
       "9                                 Dua Lipa     2     March 21 2020   \n",
       "10           Justin Bieber featuring Quavo     5      June 20 2020   \n",
       "11                              The Weeknd     1      April 4 2020   \n",
       "12                                     BTS     4      March 7 2020   \n",
       "13                               Lady Gaga     5     March 14 2020   \n",
       "14                            Lil Uzi Vert     6     March 21 2020   \n",
       "15                            Lil Uzi Vert     8     March 21 2020   \n",
       "16                            Lil Uzi Vert     9     March 21 2020   \n",
       "17                            Harry Styles     6     April 11 2020   \n",
       "18                               Doja Cat1     1       May 16 2020   \n",
       "19                                   Drake     1     April 18 2020   \n",
       "20            DaBaby featuring Roddy Ricch     1      June 13 2020   \n",
       "21   The Scotts, Travis Scott and Kid Cudi     1        May 9 2020   \n",
       "22  Megan Thee Stallion featuring Beyoncé2     1       May 30 2020   \n",
       "23           Drake featuring Playboi Carti     7       May 16 2020   \n",
       "24         Ariana Grande and Justin Bieber     1       May 23 2020   \n",
       "25                                 6ix9ine     3       May 23 2020   \n",
       "26             Lady Gaga and Ariana Grande     1       June 6 2020   \n",
       "27                               Saint Jhn     4       July 4 2020   \n",
       "28                 6ix9ine and Nicki Minaj     1      June 27 2020   \n",
       "29                                Lil Baby     3      June 27 2020   \n",
       "30                             Jack Harlow     8       July 4 2020   \n",
       "31                               Lil Mosey     9       July 4 2020   \n",
       "\n",
       "   weeks_in_top                                         single_url  \n",
       "0             2   /wiki/It%27s_the_Most_Wonderful_Time_of_the_Year  \n",
       "1             3                             /wiki/Jingle_Bell_Rock  \n",
       "2             4                        /wiki/Holly_Jolly_Christmas  \n",
       "3            18                     /wiki/Memories_(Maroon_5_song)  \n",
       "4            11                                 /wiki/Dance_Monkey  \n",
       "5            25                   /wiki/The_Box_(Roddy_Ricch_song)  \n",
       "6             2                   /wiki/Yummy_(Justin_Bieber_song)  \n",
       "7            17                          /wiki/Life_Is_Good_(song)  \n",
       "8             1                       /wiki/Godzilla_(Eminem_song)  \n",
       "9            20            /wiki/Don%27t_Start_Now_(Dua_Lipa_song)  \n",
       "10          17*              /wiki/Intentions_(Justin_Bieber_song)  \n",
       "11          19*                              /wiki/Blinding_Lights  \n",
       "12            1                                    /wiki/On_(song)  \n",
       "13            1                 /wiki/Stupid_Love_(Lady_Gaga_song)  \n",
       "14            1                                   /wiki/Baby_Pluto  \n",
       "15            1                               /wiki/Lo_Mein_(song)  \n",
       "16            1                                  /wiki/Silly_Watch  \n",
       "17            7                /wiki/Adore_You_(Harry_Styles_song)  \n",
       "18          14*                       /wiki/Say_So_(Doja_Cat_song)  \n",
       "19           10                                 /wiki/Toosie_Slide  \n",
       "20           9*                       /wiki/Rockstar_(DaBaby_song)  \n",
       "21            1                                   /wiki/The_Scotts  \n",
       "22           9*                                /wiki/Savage_(song)  \n",
       "23            1                                    /wiki/Pain_1993  \n",
       "24            1                                 /wiki/Stuck_with_U  \n",
       "25            1                                        /wiki/Gooba  \n",
       "26            4  /wiki/Rain_on_Me_(Lady_Gaga_and_Ariana_Grande_...  \n",
       "27           4*                       /wiki/Roses_(Saint_Jhn_song)  \n",
       "28            1                                /wiki/Trollz_(song)  \n",
       "29           2*                    /wiki/The_Bigger_Picture_(song)  \n",
       "30           1*                                 /wiki/Whats_Poppin  \n",
       "31           1*                              /wiki/Blueberry_Faygo  "
      ]
     },
     "execution_count": 4,
     "metadata": {},
     "output_type": "execute_result"
    }
   ],
   "source": [
    "from importlib import reload\n",
    "reload(dt)\n",
    "charts_2020 = dt.load_charts(2020)\n",
    "charts_2020"
   ]
  },
  {
   "cell_type": "code",
   "execution_count": 7,
   "metadata": {
    "ExecuteTime": {
     "end_time": "2020-07-04T20:08:36.182258Z",
     "start_time": "2020-07-04T20:08:36.174281Z"
    }
   },
   "outputs": [
    {
     "data": {
      "text/plain": [
       "('/wiki/Rain_on_Me_(Lady_Gaga_and_Ariana_Grande_song)', 'b838926fbc')"
      ]
     },
     "execution_count": 7,
     "metadata": {},
     "output_type": "execute_result"
    }
   ],
   "source": [
    "test_url = charts_2020.iloc[-6].single_url\n",
    "test_url, st.gen_id(test_url)"
   ]
  },
  {
   "cell_type": "code",
   "execution_count": 45,
   "metadata": {
    "ExecuteTime": {
     "end_time": "2020-07-04T19:30:01.072733Z",
     "start_time": "2020-07-04T19:30:01.065787Z"
    }
   },
   "outputs": [
    {
     "data": {
      "text/plain": [
       "('/wiki/Yummy_(Justin_Bieber_song)', 84462359, 12513501)"
      ]
     },
     "execution_count": 45,
     "metadata": {},
     "output_type": "execute_result"
    }
   ],
   "source": [
    "test, st.gen_id(test), st.gen_id('/wiki/Yummy_(Justin_Bieber_song)')\n"
   ]
  },
  {
   "cell_type": "code",
   "execution_count": 9,
   "metadata": {
    "ExecuteTime": {
     "end_time": "2020-07-04T20:11:21.628048Z",
     "start_time": "2020-07-04T20:11:21.621067Z"
    }
   },
   "outputs": [
    {
     "data": {
      "text/plain": [
       "True"
      ]
     },
     "execution_count": 9,
     "metadata": {},
     "output_type": "execute_result"
    }
   ],
   "source": [
    "(paths.DATA/'songs'/f\"{st.gen_id(test_url)}.json\").exists()"
   ]
  },
  {
   "cell_type": "code",
   "execution_count": 10,
   "metadata": {
    "ExecuteTime": {
     "end_time": "2020-07-04T20:11:37.234626Z",
     "start_time": "2020-07-04T20:11:37.229640Z"
    }
   },
   "outputs": [],
   "source": [
    "texists = (paths.DATA/'songs'/f\"{st.gen_id(test_url)}.json\")"
   ]
  },
  {
   "cell_type": "code",
   "execution_count": 76,
   "metadata": {
    "ExecuteTime": {
     "end_time": "2020-07-04T19:43:23.333774Z",
     "start_time": "2020-07-04T19:43:23.327790Z"
    }
   },
   "outputs": [
    {
     "data": {
      "text/plain": [
       "WindowsPath('C:/Users/Greg Mangan/jup/greg/code/music-ind/data/songs/10005808.json')"
      ]
     },
     "execution_count": 76,
     "metadata": {},
     "output_type": "execute_result"
    }
   ],
   "source": [
    "tfile.rename()"
   ]
  },
  {
   "cell_type": "code",
   "execution_count": 81,
   "metadata": {
    "ExecuteTime": {
     "end_time": "2020-07-04T19:45:33.297378Z",
     "start_time": "2020-07-04T19:45:33.290396Z"
    }
   },
   "outputs": [
    {
     "data": {
      "text/plain": [
       "{'artists': [{'artist': 'George Jones',\n",
       "   'order': 0,\n",
       "   'url': '/wiki/George_Jones'},\n",
       "  {'artist': 'Tammy Wynette', 'order': 1, 'url': '/wiki/Tammy_Wynette'}],\n",
       " 'genres': ['Country'],\n",
       " 'id': 10288102,\n",
       " 'length': '2:21',\n",
       " 'producers': [{'name': 'Billy Sherrill', 'order': 0, 'url': None}],\n",
       " 'release_date': 'November 1976 (US)',\n",
       " 'songwriters': [{'name': 'Francis Craig, Kermit Goell',\n",
       "   'order': 0,\n",
       "   'url': None}],\n",
       " 'title': 'Near You',\n",
       " 'url': '/wiki/Near_You'}"
      ]
     },
     "execution_count": 81,
     "metadata": {},
     "output_type": "execute_result"
    }
   ],
   "source": [
    "jdata"
   ]
  },
  {
   "cell_type": "code",
   "execution_count": 114,
   "metadata": {
    "ExecuteTime": {
     "end_time": "2020-07-04T20:03:15.479763Z",
     "start_time": "2020-07-04T20:03:15.413936Z"
    },
    "scrolled": false
   },
   "outputs": [
    {
     "ename": "PermissionError",
     "evalue": "[WinError 32] The process cannot access the file because it is being used by another process: 'C:\\\\Users\\\\Greg Mangan\\\\jup\\\\greg\\\\code\\\\music-ind\\\\data\\\\songs\\\\8146985.json'",
     "output_type": "error",
     "traceback": [
      "\u001b[1;31m---------------------------------------------------------------------------\u001b[0m",
      "\u001b[1;31mPermissionError\u001b[0m                           Traceback (most recent call last)",
      "\u001b[1;32m<ipython-input-114-9db6908cdf9b>\u001b[0m in \u001b[0;36m<module>\u001b[1;34m()\u001b[0m\n\u001b[0;32m      1\u001b[0m \u001b[0merror_files\u001b[0m \u001b[1;33m=\u001b[0m \u001b[1;33m[\u001b[0m\u001b[0mfile\u001b[0m \u001b[1;32mfor\u001b[0m \u001b[0mfile\u001b[0m \u001b[1;32min\u001b[0m \u001b[1;33m(\u001b[0m\u001b[0mpaths\u001b[0m\u001b[1;33m.\u001b[0m\u001b[0mDATA\u001b[0m\u001b[1;33m/\u001b[0m\u001b[1;34m'songs'\u001b[0m\u001b[1;33m)\u001b[0m\u001b[1;33m.\u001b[0m\u001b[0mglob\u001b[0m\u001b[1;33m(\u001b[0m\u001b[1;34m\"*.json\"\u001b[0m\u001b[1;33m)\u001b[0m \u001b[1;32mif\u001b[0m \u001b[0mlen\u001b[0m\u001b[1;33m(\u001b[0m\u001b[0mfile\u001b[0m\u001b[1;33m.\u001b[0m\u001b[0mstem\u001b[0m\u001b[1;33m)\u001b[0m\u001b[1;33m!=\u001b[0m\u001b[1;36m10\u001b[0m\u001b[1;33m]\u001b[0m\u001b[1;33m\u001b[0m\u001b[0m\n\u001b[0;32m      2\u001b[0m \u001b[1;32mfor\u001b[0m \u001b[0mfile\u001b[0m \u001b[1;32min\u001b[0m \u001b[0merror_files\u001b[0m\u001b[1;33m:\u001b[0m\u001b[1;33m\u001b[0m\u001b[0m\n\u001b[1;32m----> 3\u001b[1;33m     \u001b[0mfile\u001b[0m\u001b[1;33m.\u001b[0m\u001b[0munlink\u001b[0m\u001b[1;33m(\u001b[0m\u001b[1;33m)\u001b[0m\u001b[1;33m\u001b[0m\u001b[0m\n\u001b[0m",
      "\u001b[1;32mC:\\ProgramData\\Anaconda3\\lib\\pathlib.py\u001b[0m in \u001b[0;36munlink\u001b[1;34m(self)\u001b[0m\n\u001b[0;32m   1260\u001b[0m         \u001b[1;32mif\u001b[0m \u001b[0mself\u001b[0m\u001b[1;33m.\u001b[0m\u001b[0m_closed\u001b[0m\u001b[1;33m:\u001b[0m\u001b[1;33m\u001b[0m\u001b[0m\n\u001b[0;32m   1261\u001b[0m             \u001b[0mself\u001b[0m\u001b[1;33m.\u001b[0m\u001b[0m_raise_closed\u001b[0m\u001b[1;33m(\u001b[0m\u001b[1;33m)\u001b[0m\u001b[1;33m\u001b[0m\u001b[0m\n\u001b[1;32m-> 1262\u001b[1;33m         \u001b[0mself\u001b[0m\u001b[1;33m.\u001b[0m\u001b[0m_accessor\u001b[0m\u001b[1;33m.\u001b[0m\u001b[0munlink\u001b[0m\u001b[1;33m(\u001b[0m\u001b[0mself\u001b[0m\u001b[1;33m)\u001b[0m\u001b[1;33m\u001b[0m\u001b[0m\n\u001b[0m\u001b[0;32m   1263\u001b[0m \u001b[1;33m\u001b[0m\u001b[0m\n\u001b[0;32m   1264\u001b[0m     \u001b[1;32mdef\u001b[0m \u001b[0mrmdir\u001b[0m\u001b[1;33m(\u001b[0m\u001b[0mself\u001b[0m\u001b[1;33m)\u001b[0m\u001b[1;33m:\u001b[0m\u001b[1;33m\u001b[0m\u001b[0m\n",
      "\u001b[1;32mC:\\ProgramData\\Anaconda3\\lib\\pathlib.py\u001b[0m in \u001b[0;36mwrapped\u001b[1;34m(pathobj, *args)\u001b[0m\n\u001b[0;32m    385\u001b[0m         \u001b[1;33m@\u001b[0m\u001b[0mfunctools\u001b[0m\u001b[1;33m.\u001b[0m\u001b[0mwraps\u001b[0m\u001b[1;33m(\u001b[0m\u001b[0mstrfunc\u001b[0m\u001b[1;33m)\u001b[0m\u001b[1;33m\u001b[0m\u001b[0m\n\u001b[0;32m    386\u001b[0m         \u001b[1;32mdef\u001b[0m \u001b[0mwrapped\u001b[0m\u001b[1;33m(\u001b[0m\u001b[0mpathobj\u001b[0m\u001b[1;33m,\u001b[0m \u001b[1;33m*\u001b[0m\u001b[0margs\u001b[0m\u001b[1;33m)\u001b[0m\u001b[1;33m:\u001b[0m\u001b[1;33m\u001b[0m\u001b[0m\n\u001b[1;32m--> 387\u001b[1;33m             \u001b[1;32mreturn\u001b[0m \u001b[0mstrfunc\u001b[0m\u001b[1;33m(\u001b[0m\u001b[0mstr\u001b[0m\u001b[1;33m(\u001b[0m\u001b[0mpathobj\u001b[0m\u001b[1;33m)\u001b[0m\u001b[1;33m,\u001b[0m \u001b[1;33m*\u001b[0m\u001b[0margs\u001b[0m\u001b[1;33m)\u001b[0m\u001b[1;33m\u001b[0m\u001b[0m\n\u001b[0m\u001b[0;32m    388\u001b[0m         \u001b[1;32mreturn\u001b[0m \u001b[0mstaticmethod\u001b[0m\u001b[1;33m(\u001b[0m\u001b[0mwrapped\u001b[0m\u001b[1;33m)\u001b[0m\u001b[1;33m\u001b[0m\u001b[0m\n\u001b[0;32m    389\u001b[0m \u001b[1;33m\u001b[0m\u001b[0m\n",
      "\u001b[1;31mPermissionError\u001b[0m: [WinError 32] The process cannot access the file because it is being used by another process: 'C:\\\\Users\\\\Greg Mangan\\\\jup\\\\greg\\\\code\\\\music-ind\\\\data\\\\songs\\\\8146985.json'"
     ]
    }
   ],
   "source": [
    "error_files = [file for file in (paths.DATA/'songs').glob(\"*.json\") if len(file.stem)!=10]\n",
    "for file in error_files:\n",
    "    file.unlink()"
   ]
  },
  {
   "cell_type": "code",
   "execution_count": 14,
   "metadata": {
    "ExecuteTime": {
     "end_time": "2020-07-04T20:12:34.733756Z",
     "start_time": "2020-07-04T20:12:34.721826Z"
    }
   },
   "outputs": [
    {
     "data": {
      "text/plain": [
       "{'artists': [{'artist': 'Lady Gaga', 'order': 0, 'url': '/wiki/Lady_Gaga'},\n",
       "  {'artist': 'Ariana Grande', 'order': 1, 'url': '/wiki/Ariana_Grande'}],\n",
       " 'genres': ['Dance-pop', 'house', 'disco', 'electropop'],\n",
       " 'id': 25215917,\n",
       " 'length': '3:02',\n",
       " 'producers': [{'name': 'BloodPop', 'order': 0, 'url': '/wiki/BloodPop'},\n",
       "  {'name': 'Burns', 'order': 1, 'url': '/wiki/Burns_(musician)'}],\n",
       " 'release_date': 'May 22, 2020 (2020-05-22)',\n",
       " 'songwriters': [{'name': 'Stefani Germanotta',\n",
       "   'order': 0,\n",
       "   'url': '/wiki/Lady_Gaga'},\n",
       "  {'name': 'Ariana Grande', 'order': 1, 'url': '/wiki/Ariana_Grande'},\n",
       "  {'name': 'Nija Charles', 'order': 2, 'url': '/wiki/Nija_Charles'},\n",
       "  {'name': 'Rami Yacoub', 'order': 3, 'url': '/wiki/Rami_Yacoub'},\n",
       "  {'name': 'Michael Tucker', 'order': 4, 'url': '/wiki/BloodPop'},\n",
       "  {'name': 'Martin Bresso', 'order': 5, 'url': '/wiki/Tchami'},\n",
       "  {'name': 'Alexander Ridha', 'order': 6, 'url': '/wiki/Boys_Noize'},\n",
       "  {'name': 'Matthew Burns', 'order': 7, 'url': '/wiki/Burns_(musician)'}],\n",
       " 'title': 'Rain on Me',\n",
       " 'url': '/wiki/Rain_on_Me_(Lady_Gaga_and_Ariana_Grande_song)'}"
      ]
     },
     "execution_count": 14,
     "metadata": {},
     "output_type": "execute_result"
    }
   ],
   "source": [
    "reload(dt)\n",
    "dt.load_single(test_url)"
   ]
  }
 ],
 "metadata": {
  "kernelspec": {
   "display_name": "Python 3",
   "language": "python",
   "name": "python3"
  },
  "language_info": {
   "codemirror_mode": {
    "name": "ipython",
    "version": 3
   },
   "file_extension": ".py",
   "mimetype": "text/x-python",
   "name": "python",
   "nbconvert_exporter": "python",
   "pygments_lexer": "ipython3",
   "version": "3.6.4"
  },
  "toc": {
   "base_numbering": 1,
   "nav_menu": {},
   "number_sections": true,
   "sideBar": true,
   "skip_h1_title": false,
   "title_cell": "Table of Contents",
   "title_sidebar": "Contents",
   "toc_cell": false,
   "toc_position": {},
   "toc_section_display": true,
   "toc_window_display": false
  }
 },
 "nbformat": 4,
 "nbformat_minor": 2
}
